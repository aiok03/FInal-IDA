{
 "cells": [
  {
   "cell_type": "markdown",
   "metadata": {},
   "source": [
    "# Final project\n",
    "\n",
    "\n"
   ]
  },
  {
   "cell_type": "markdown",
   "metadata": {},
   "source": [
    "# Google play store"
   ]
  },
  {
   "cell_type": "code",
   "execution_count": 1,
   "metadata": {},
   "outputs": [],
   "source": [
    "import numpy as np\n",
    "import seaborn as sns\n",
    "import pandas as pd\n",
    "import matplotlib.pyplot as plt\n",
    "%matplotlib inline"
   ]
  },
  {
   "cell_type": "code",
   "execution_count": 2,
   "metadata": {},
   "outputs": [
    {
     "data": {
      "text/html": [
       "<div>\n",
       "<style scoped>\n",
       "    .dataframe tbody tr th:only-of-type {\n",
       "        vertical-align: middle;\n",
       "    }\n",
       "\n",
       "    .dataframe tbody tr th {\n",
       "        vertical-align: top;\n",
       "    }\n",
       "\n",
       "    .dataframe thead th {\n",
       "        text-align: right;\n",
       "    }\n",
       "</style>\n",
       "<table border=\"1\" class=\"dataframe\">\n",
       "  <thead>\n",
       "    <tr style=\"text-align: right;\">\n",
       "      <th></th>\n",
       "      <th>App</th>\n",
       "      <th>Category</th>\n",
       "      <th>Rating</th>\n",
       "      <th>Reviews</th>\n",
       "      <th>Size</th>\n",
       "      <th>Installs</th>\n",
       "      <th>Type</th>\n",
       "      <th>Price</th>\n",
       "      <th>Content Rating</th>\n",
       "      <th>Genres</th>\n",
       "      <th>Last Updated</th>\n",
       "      <th>Current Ver</th>\n",
       "      <th>Android Ver</th>\n",
       "    </tr>\n",
       "  </thead>\n",
       "  <tbody>\n",
       "    <tr>\n",
       "      <th>0</th>\n",
       "      <td>Photo Editor &amp; Candy Camera &amp; Grid &amp; ScrapBook</td>\n",
       "      <td>ART_AND_DESIGN</td>\n",
       "      <td>4.1</td>\n",
       "      <td>159</td>\n",
       "      <td>19M</td>\n",
       "      <td>10,000+</td>\n",
       "      <td>Free</td>\n",
       "      <td>0</td>\n",
       "      <td>Everyone</td>\n",
       "      <td>Art &amp; Design</td>\n",
       "      <td>January 7, 2018</td>\n",
       "      <td>1.0.0</td>\n",
       "      <td>4.0.3 and up</td>\n",
       "    </tr>\n",
       "    <tr>\n",
       "      <th>1</th>\n",
       "      <td>Coloring book moana</td>\n",
       "      <td>ART_AND_DESIGN</td>\n",
       "      <td>3.9</td>\n",
       "      <td>967</td>\n",
       "      <td>14M</td>\n",
       "      <td>500,000+</td>\n",
       "      <td>Free</td>\n",
       "      <td>0</td>\n",
       "      <td>Everyone</td>\n",
       "      <td>Art &amp; Design;Pretend Play</td>\n",
       "      <td>January 15, 2018</td>\n",
       "      <td>2.0.0</td>\n",
       "      <td>4.0.3 and up</td>\n",
       "    </tr>\n",
       "    <tr>\n",
       "      <th>2</th>\n",
       "      <td>U Launcher Lite – FREE Live Cool Themes, Hide ...</td>\n",
       "      <td>ART_AND_DESIGN</td>\n",
       "      <td>4.7</td>\n",
       "      <td>87510</td>\n",
       "      <td>8.7M</td>\n",
       "      <td>5,000,000+</td>\n",
       "      <td>Free</td>\n",
       "      <td>0</td>\n",
       "      <td>Everyone</td>\n",
       "      <td>Art &amp; Design</td>\n",
       "      <td>August 1, 2018</td>\n",
       "      <td>1.2.4</td>\n",
       "      <td>4.0.3 and up</td>\n",
       "    </tr>\n",
       "    <tr>\n",
       "      <th>3</th>\n",
       "      <td>Sketch - Draw &amp; Paint</td>\n",
       "      <td>ART_AND_DESIGN</td>\n",
       "      <td>4.5</td>\n",
       "      <td>215644</td>\n",
       "      <td>25M</td>\n",
       "      <td>50,000,000+</td>\n",
       "      <td>Free</td>\n",
       "      <td>0</td>\n",
       "      <td>Teen</td>\n",
       "      <td>Art &amp; Design</td>\n",
       "      <td>June 8, 2018</td>\n",
       "      <td>Varies with device</td>\n",
       "      <td>4.2 and up</td>\n",
       "    </tr>\n",
       "    <tr>\n",
       "      <th>4</th>\n",
       "      <td>Pixel Draw - Number Art Coloring Book</td>\n",
       "      <td>ART_AND_DESIGN</td>\n",
       "      <td>4.3</td>\n",
       "      <td>967</td>\n",
       "      <td>2.8M</td>\n",
       "      <td>100,000+</td>\n",
       "      <td>Free</td>\n",
       "      <td>0</td>\n",
       "      <td>Everyone</td>\n",
       "      <td>Art &amp; Design;Creativity</td>\n",
       "      <td>June 20, 2018</td>\n",
       "      <td>1.1</td>\n",
       "      <td>4.4 and up</td>\n",
       "    </tr>\n",
       "  </tbody>\n",
       "</table>\n",
       "</div>"
      ],
      "text/plain": [
       "                                                 App        Category  Rating  \\\n",
       "0     Photo Editor & Candy Camera & Grid & ScrapBook  ART_AND_DESIGN     4.1   \n",
       "1                                Coloring book moana  ART_AND_DESIGN     3.9   \n",
       "2  U Launcher Lite – FREE Live Cool Themes, Hide ...  ART_AND_DESIGN     4.7   \n",
       "3                              Sketch - Draw & Paint  ART_AND_DESIGN     4.5   \n",
       "4              Pixel Draw - Number Art Coloring Book  ART_AND_DESIGN     4.3   \n",
       "\n",
       "  Reviews  Size     Installs  Type Price Content Rating  \\\n",
       "0     159   19M      10,000+  Free     0       Everyone   \n",
       "1     967   14M     500,000+  Free     0       Everyone   \n",
       "2   87510  8.7M   5,000,000+  Free     0       Everyone   \n",
       "3  215644   25M  50,000,000+  Free     0           Teen   \n",
       "4     967  2.8M     100,000+  Free     0       Everyone   \n",
       "\n",
       "                      Genres      Last Updated         Current Ver  \\\n",
       "0               Art & Design   January 7, 2018               1.0.0   \n",
       "1  Art & Design;Pretend Play  January 15, 2018               2.0.0   \n",
       "2               Art & Design    August 1, 2018               1.2.4   \n",
       "3               Art & Design      June 8, 2018  Varies with device   \n",
       "4    Art & Design;Creativity     June 20, 2018                 1.1   \n",
       "\n",
       "    Android Ver  \n",
       "0  4.0.3 and up  \n",
       "1  4.0.3 and up  \n",
       "2  4.0.3 and up  \n",
       "3    4.2 and up  \n",
       "4    4.4 and up  "
      ]
     },
     "execution_count": 2,
     "metadata": {},
     "output_type": "execute_result"
    }
   ],
   "source": [
    "apps=pd.read_csv(r'C:\\Users\\Ademi\\OneDrive\\Рабочий стол\\googleplaystore.csv')\n",
    "apps.head()"
   ]
  },
  {
   "cell_type": "markdown",
   "metadata": {},
   "source": [
    "## 1. Introduction"
   ]
  },
  {
   "cell_type": "markdown",
   "metadata": {},
   "source": [
    "For the Final project for this class I decided to choose Google play store dataset. The main goal of this project is making data analysis for apps from Google Play Store to identify trends and make conclusions about relevance of this app. I chose this specific dataset because it contains a sufficient amount of interesting data of virety types for the analysis.\n",
    "Chosen dataset is based on real data taken from the Google Play Store. Google Play Store is digital market where Android user can find and download free or paid certified apps. \n",
    "Dataset contains information about apps, including their original name, category,size,rating, etc. Should be noticed that dataset was created in 2018 year, that is why most recent update of app was made during that year. \n",
    "\n"
   ]
  },
  {
   "cell_type": "markdown",
   "metadata": {},
   "source": [
    "## 2. Data description"
   ]
  },
  {
   "cell_type": "code",
   "execution_count": 485,
   "metadata": {},
   "outputs": [
    {
     "data": {
      "text/plain": [
       "(10841, 13)"
      ]
     },
     "execution_count": 485,
     "metadata": {},
     "output_type": "execute_result"
    }
   ],
   "source": [
    "#identify number of rows and columns\n",
    "apps.shape"
   ]
  },
  {
   "cell_type": "markdown",
   "metadata": {},
   "source": [
    "There are about 10346 rows(apps) and 13 columns "
   ]
  },
  {
   "cell_type": "markdown",
   "metadata": {},
   "source": [
    "#### Description of columns"
   ]
  },
  {
   "cell_type": "markdown",
   "metadata": {},
   "source": [
    "1. App - name of application\n",
    "2. Category - category of app (such as Business, Family, Game and etc.)\n",
    "3. Rating - overall rating of app made by users \n",
    "4. Reviews - number of reviews \n",
    "5. Size - size of app in megabytes or kylobytes. Can have numerical value or 'Varies with device' value\n",
    "6. Installs - number of installs in format like 10000+ downloads\n",
    "7. Type - free or paid app\n",
    "8. Price - price of paid app\n",
    "9. Content Rating - age class the app is targeted at (Teen,Everyone...)\n",
    "10. Genres - genres the app belongs to. App have to be in one category, but can have one or more genres. \n",
    "11. Last Updated - the date when last update of app was made. Can have numerical value or 'Varies with device' value\n",
    "12. Current Ver - last version of app\n",
    "13. Android Ver - minimum required version of android device"
   ]
  },
  {
   "cell_type": "markdown",
   "metadata": {},
   "source": [
    "## 3. Research question"
   ]
  },
  {
   "cell_type": "markdown",
   "metadata": {},
   "source": [
    "1. Which categories are the most popular? Show the most installed apps in each of the top 4 categories\n",
    "2. What is the average rating for applications that have not been updated for more than 3 years?\n",
    "3. How does the type of application (Paid or Free) affect the download frequency?\n",
    "4. Are there any dependence of app size on Android version of mobile? Describe the relationship between them.\n",
    "5. Compare by rating the most popular and the least popular apps in 'Everyone', 'Teen', 'Adults only 18+' content ratings"
   ]
  },
  {
   "cell_type": "markdown",
   "metadata": {},
   "source": [
    "## 4. Data preparation"
   ]
  },
  {
   "cell_type": "code",
   "execution_count": 487,
   "metadata": {},
   "outputs": [
    {
     "name": "stdout",
     "output_type": "stream",
     "text": [
      "<class 'pandas.core.frame.DataFrame'>\n",
      "RangeIndex: 10841 entries, 0 to 10840\n",
      "Data columns (total 13 columns):\n",
      " #   Column          Non-Null Count  Dtype  \n",
      "---  ------          --------------  -----  \n",
      " 0   App             10841 non-null  object \n",
      " 1   Category        10841 non-null  object \n",
      " 2   Rating          9367 non-null   float64\n",
      " 3   Reviews         10841 non-null  object \n",
      " 4   Size            10841 non-null  object \n",
      " 5   Installs        10841 non-null  object \n",
      " 6   Type            10840 non-null  object \n",
      " 7   Price           10841 non-null  object \n",
      " 8   Content Rating  10840 non-null  object \n",
      " 9   Genres          10841 non-null  object \n",
      " 10  Last Updated    10841 non-null  object \n",
      " 11  Current Ver     10833 non-null  object \n",
      " 12  Android Ver     10838 non-null  object \n",
      "dtypes: float64(1), object(12)\n",
      "memory usage: 1.1+ MB\n"
     ]
    }
   ],
   "source": [
    "apps.info()"
   ]
  },
  {
   "cell_type": "markdown",
   "metadata": {},
   "source": [
    "Most of columns have full data, but we see that there are some columns that have missing values: Rating, Current Ver, Android Ver, Content Rating, Type"
   ]
  },
  {
   "cell_type": "code",
   "execution_count": 488,
   "metadata": {
    "scrolled": true
   },
   "outputs": [
    {
     "data": {
      "text/plain": [
       "App                  0\n",
       "Category             0\n",
       "Rating            1474\n",
       "Reviews              0\n",
       "Size                 0\n",
       "Installs             0\n",
       "Type                 1\n",
       "Price                0\n",
       "Content Rating       1\n",
       "Genres               0\n",
       "Last Updated         0\n",
       "Current Ver          8\n",
       "Android Ver          3\n",
       "dtype: int64"
      ]
     },
     "execution_count": 488,
     "metadata": {},
     "output_type": "execute_result"
    }
   ],
   "source": [
    "apps.isnull().sum()"
   ]
  },
  {
   "cell_type": "markdown",
   "metadata": {},
   "source": [
    "Rating column has the most number of vissing values."
   ]
  },
  {
   "cell_type": "code",
   "execution_count": 489,
   "metadata": {},
   "outputs": [
    {
     "name": "stdout",
     "output_type": "stream",
     "text": [
      "0.13596531685268887\n"
     ]
    }
   ],
   "source": [
    "print(apps[\"Rating\"].isnull().sum()/len(apps))"
   ]
  },
  {
   "cell_type": "markdown",
   "metadata": {},
   "source": [
    "Only 14% percent of data are missing. We can fill missing values"
   ]
  },
  {
   "cell_type": "code",
   "execution_count": 490,
   "metadata": {},
   "outputs": [
    {
     "name": "stdout",
     "output_type": "stream",
     "text": [
      "4.193338315362448 4.3 0    4.4\n",
      "dtype: float64\n"
     ]
    }
   ],
   "source": [
    "mean=apps['Rating'].mean()\n",
    "median=apps['Rating'].median()\n",
    "mode=apps['Rating'].mode()\n",
    "\n",
    "print(mean,median,mode)\n"
   ]
  },
  {
   "cell_type": "code",
   "execution_count": 491,
   "metadata": {},
   "outputs": [],
   "source": [
    "apps['Rating'].fillna(median,inplace=True)"
   ]
  },
  {
   "cell_type": "markdown",
   "metadata": {},
   "source": [
    "Use median rating ro fill missing values"
   ]
  },
  {
   "cell_type": "code",
   "execution_count": 492,
   "metadata": {},
   "outputs": [
    {
     "name": "stdout",
     "output_type": "stream",
     "text": [
      "0.0007379393044922055\n",
      "0.0002767272391845771\n",
      "9.224241306152569e-05\n",
      "9.224241306152569e-05\n"
     ]
    }
   ],
   "source": [
    "print(apps[\"Current Ver\"].isnull().sum()/len(apps))\n",
    "print(apps[\"Android Ver\"].isnull().sum()/len(apps))\n",
    "print(apps[\"Content Rating\"].isnull().sum()/len(apps))\n",
    "print(apps[\"Type\"].isnull().sum()/len(apps))"
   ]
  },
  {
   "cell_type": "code",
   "execution_count": 493,
   "metadata": {},
   "outputs": [],
   "source": [
    "apps.dropna(how='any',inplace=True)"
   ]
  },
  {
   "cell_type": "markdown",
   "metadata": {},
   "source": [
    "In Type, Current Ver, Android Ver and Content Rating % of missing values is not substantial. We can just drop missing values in that columns"
   ]
  },
  {
   "cell_type": "code",
   "execution_count": 494,
   "metadata": {},
   "outputs": [
    {
     "data": {
      "text/plain": [
       "App               0\n",
       "Category          0\n",
       "Rating            0\n",
       "Reviews           0\n",
       "Size              0\n",
       "Installs          0\n",
       "Type              0\n",
       "Price             0\n",
       "Content Rating    0\n",
       "Genres            0\n",
       "Last Updated      0\n",
       "Current Ver       0\n",
       "Android Ver       0\n",
       "dtype: int64"
      ]
     },
     "execution_count": 494,
     "metadata": {},
     "output_type": "execute_result"
    }
   ],
   "source": [
    "apps.isnull().sum()"
   ]
  },
  {
   "cell_type": "code",
   "execution_count": 495,
   "metadata": {
    "scrolled": true
   },
   "outputs": [
    {
     "data": {
      "text/plain": [
       "False    0.955398\n",
       "True     0.044602\n",
       "dtype: float64"
      ]
     },
     "execution_count": 495,
     "metadata": {},
     "output_type": "execute_result"
    }
   ],
   "source": [
    "apps.duplicated().value_counts()/apps.shape[0]"
   ]
  },
  {
   "cell_type": "code",
   "execution_count": 496,
   "metadata": {},
   "outputs": [],
   "source": [
    "apps.drop_duplicates(inplace=True) "
   ]
  },
  {
   "cell_type": "markdown",
   "metadata": {},
   "source": [
    "Removing duplicated values by whoe columns"
   ]
  },
  {
   "cell_type": "code",
   "execution_count": 497,
   "metadata": {},
   "outputs": [
    {
     "data": {
      "text/plain": [
       "9648"
      ]
     },
     "execution_count": 497,
     "metadata": {},
     "output_type": "execute_result"
    }
   ],
   "source": [
    "apps.App.nunique()"
   ]
  },
  {
   "cell_type": "markdown",
   "metadata": {},
   "source": [
    "Number of rows is 10346, but we see that there are only 9648 unique apps in dataset."
   ]
  },
  {
   "cell_type": "code",
   "execution_count": 498,
   "metadata": {},
   "outputs": [
    {
     "data": {
      "text/html": [
       "<div>\n",
       "<style scoped>\n",
       "    .dataframe tbody tr th:only-of-type {\n",
       "        vertical-align: middle;\n",
       "    }\n",
       "\n",
       "    .dataframe tbody tr th {\n",
       "        vertical-align: top;\n",
       "    }\n",
       "\n",
       "    .dataframe thead th {\n",
       "        text-align: right;\n",
       "    }\n",
       "</style>\n",
       "<table border=\"1\" class=\"dataframe\">\n",
       "  <thead>\n",
       "    <tr style=\"text-align: right;\">\n",
       "      <th></th>\n",
       "      <th>App</th>\n",
       "      <th>Category</th>\n",
       "      <th>Rating</th>\n",
       "      <th>Reviews</th>\n",
       "      <th>Size</th>\n",
       "      <th>Installs</th>\n",
       "      <th>Type</th>\n",
       "      <th>Price</th>\n",
       "      <th>Content Rating</th>\n",
       "      <th>Genres</th>\n",
       "      <th>Last Updated</th>\n",
       "      <th>Current Ver</th>\n",
       "      <th>Android Ver</th>\n",
       "    </tr>\n",
       "  </thead>\n",
       "  <tbody>\n",
       "    <tr>\n",
       "      <th>5415</th>\n",
       "      <td>365Scores - Live Scores</td>\n",
       "      <td>SPORTS</td>\n",
       "      <td>4.6</td>\n",
       "      <td>666246</td>\n",
       "      <td>25M</td>\n",
       "      <td>10,000,000+</td>\n",
       "      <td>Free</td>\n",
       "      <td>0</td>\n",
       "      <td>Everyone</td>\n",
       "      <td>Sports</td>\n",
       "      <td>July 29, 2018</td>\n",
       "      <td>5.5.9</td>\n",
       "      <td>4.1 and up</td>\n",
       "    </tr>\n",
       "    <tr>\n",
       "      <th>3083</th>\n",
       "      <td>365Scores - Live Scores</td>\n",
       "      <td>SPORTS</td>\n",
       "      <td>4.6</td>\n",
       "      <td>666521</td>\n",
       "      <td>25M</td>\n",
       "      <td>10,000,000+</td>\n",
       "      <td>Free</td>\n",
       "      <td>0</td>\n",
       "      <td>Everyone</td>\n",
       "      <td>Sports</td>\n",
       "      <td>July 29, 2018</td>\n",
       "      <td>5.5.9</td>\n",
       "      <td>4.1 and up</td>\n",
       "    </tr>\n",
       "    <tr>\n",
       "      <th>1755</th>\n",
       "      <td>8 Ball Pool</td>\n",
       "      <td>GAME</td>\n",
       "      <td>4.5</td>\n",
       "      <td>14200344</td>\n",
       "      <td>52M</td>\n",
       "      <td>100,000,000+</td>\n",
       "      <td>Free</td>\n",
       "      <td>0</td>\n",
       "      <td>Everyone</td>\n",
       "      <td>Sports</td>\n",
       "      <td>July 31, 2018</td>\n",
       "      <td>4.0.0</td>\n",
       "      <td>4.0.3 and up</td>\n",
       "    </tr>\n",
       "    <tr>\n",
       "      <th>1703</th>\n",
       "      <td>8 Ball Pool</td>\n",
       "      <td>GAME</td>\n",
       "      <td>4.5</td>\n",
       "      <td>14198602</td>\n",
       "      <td>52M</td>\n",
       "      <td>100,000,000+</td>\n",
       "      <td>Free</td>\n",
       "      <td>0</td>\n",
       "      <td>Everyone</td>\n",
       "      <td>Sports</td>\n",
       "      <td>July 31, 2018</td>\n",
       "      <td>4.0.0</td>\n",
       "      <td>4.0.3 and up</td>\n",
       "    </tr>\n",
       "    <tr>\n",
       "      <th>1871</th>\n",
       "      <td>8 Ball Pool</td>\n",
       "      <td>GAME</td>\n",
       "      <td>4.5</td>\n",
       "      <td>14201891</td>\n",
       "      <td>52M</td>\n",
       "      <td>100,000,000+</td>\n",
       "      <td>Free</td>\n",
       "      <td>0</td>\n",
       "      <td>Everyone</td>\n",
       "      <td>Sports</td>\n",
       "      <td>July 31, 2018</td>\n",
       "      <td>4.0.0</td>\n",
       "      <td>4.0.3 and up</td>\n",
       "    </tr>\n",
       "    <tr>\n",
       "      <th>...</th>\n",
       "      <td>...</td>\n",
       "      <td>...</td>\n",
       "      <td>...</td>\n",
       "      <td>...</td>\n",
       "      <td>...</td>\n",
       "      <td>...</td>\n",
       "      <td>...</td>\n",
       "      <td>...</td>\n",
       "      <td>...</td>\n",
       "      <td>...</td>\n",
       "      <td>...</td>\n",
       "      <td>...</td>\n",
       "      <td>...</td>\n",
       "    </tr>\n",
       "    <tr>\n",
       "      <th>2590</th>\n",
       "      <td>textPlus: Free Text &amp; Calls</td>\n",
       "      <td>SOCIAL</td>\n",
       "      <td>4.1</td>\n",
       "      <td>382120</td>\n",
       "      <td>28M</td>\n",
       "      <td>10,000,000+</td>\n",
       "      <td>Free</td>\n",
       "      <td>0</td>\n",
       "      <td>Everyone</td>\n",
       "      <td>Social</td>\n",
       "      <td>July 26, 2018</td>\n",
       "      <td>7.3.1</td>\n",
       "      <td>4.1 and up</td>\n",
       "    </tr>\n",
       "    <tr>\n",
       "      <th>2964</th>\n",
       "      <td>theScore: Live Sports Scores, News, Stats &amp; Vi...</td>\n",
       "      <td>SPORTS</td>\n",
       "      <td>4.4</td>\n",
       "      <td>133825</td>\n",
       "      <td>34M</td>\n",
       "      <td>10,000,000+</td>\n",
       "      <td>Free</td>\n",
       "      <td>0</td>\n",
       "      <td>Everyone 10+</td>\n",
       "      <td>Sports</td>\n",
       "      <td>July 25, 2018</td>\n",
       "      <td>6.17.2</td>\n",
       "      <td>4.4 and up</td>\n",
       "    </tr>\n",
       "    <tr>\n",
       "      <th>3055</th>\n",
       "      <td>theScore: Live Sports Scores, News, Stats &amp; Vi...</td>\n",
       "      <td>SPORTS</td>\n",
       "      <td>4.4</td>\n",
       "      <td>133833</td>\n",
       "      <td>34M</td>\n",
       "      <td>10,000,000+</td>\n",
       "      <td>Free</td>\n",
       "      <td>0</td>\n",
       "      <td>Everyone 10+</td>\n",
       "      <td>Sports</td>\n",
       "      <td>July 25, 2018</td>\n",
       "      <td>6.17.2</td>\n",
       "      <td>4.4 and up</td>\n",
       "    </tr>\n",
       "    <tr>\n",
       "      <th>3652</th>\n",
       "      <td>wetter.com - Weather and Radar</td>\n",
       "      <td>WEATHER</td>\n",
       "      <td>4.2</td>\n",
       "      <td>189313</td>\n",
       "      <td>38M</td>\n",
       "      <td>10,000,000+</td>\n",
       "      <td>Free</td>\n",
       "      <td>0</td>\n",
       "      <td>Everyone</td>\n",
       "      <td>Weather</td>\n",
       "      <td>August 6, 2018</td>\n",
       "      <td>Varies with device</td>\n",
       "      <td>Varies with device</td>\n",
       "    </tr>\n",
       "    <tr>\n",
       "      <th>8291</th>\n",
       "      <td>wetter.com - Weather and Radar</td>\n",
       "      <td>WEATHER</td>\n",
       "      <td>4.2</td>\n",
       "      <td>189310</td>\n",
       "      <td>38M</td>\n",
       "      <td>10,000,000+</td>\n",
       "      <td>Free</td>\n",
       "      <td>0</td>\n",
       "      <td>Everyone</td>\n",
       "      <td>Weather</td>\n",
       "      <td>August 6, 2018</td>\n",
       "      <td>Varies with device</td>\n",
       "      <td>Varies with device</td>\n",
       "    </tr>\n",
       "  </tbody>\n",
       "</table>\n",
       "<p>1221 rows × 13 columns</p>\n",
       "</div>"
      ],
      "text/plain": [
       "                                                    App Category  Rating  \\\n",
       "5415                            365Scores - Live Scores   SPORTS     4.6   \n",
       "3083                            365Scores - Live Scores   SPORTS     4.6   \n",
       "1755                                        8 Ball Pool     GAME     4.5   \n",
       "1703                                        8 Ball Pool     GAME     4.5   \n",
       "1871                                        8 Ball Pool     GAME     4.5   \n",
       "...                                                 ...      ...     ...   \n",
       "2590                        textPlus: Free Text & Calls   SOCIAL     4.1   \n",
       "2964  theScore: Live Sports Scores, News, Stats & Vi...   SPORTS     4.4   \n",
       "3055  theScore: Live Sports Scores, News, Stats & Vi...   SPORTS     4.4   \n",
       "3652                     wetter.com - Weather and Radar  WEATHER     4.2   \n",
       "8291                     wetter.com - Weather and Radar  WEATHER     4.2   \n",
       "\n",
       "       Reviews Size      Installs  Type Price Content Rating   Genres  \\\n",
       "5415    666246  25M   10,000,000+  Free     0       Everyone   Sports   \n",
       "3083    666521  25M   10,000,000+  Free     0       Everyone   Sports   \n",
       "1755  14200344  52M  100,000,000+  Free     0       Everyone   Sports   \n",
       "1703  14198602  52M  100,000,000+  Free     0       Everyone   Sports   \n",
       "1871  14201891  52M  100,000,000+  Free     0       Everyone   Sports   \n",
       "...        ...  ...           ...   ...   ...            ...      ...   \n",
       "2590    382120  28M   10,000,000+  Free     0       Everyone   Social   \n",
       "2964    133825  34M   10,000,000+  Free     0   Everyone 10+   Sports   \n",
       "3055    133833  34M   10,000,000+  Free     0   Everyone 10+   Sports   \n",
       "3652    189313  38M   10,000,000+  Free     0       Everyone  Weather   \n",
       "8291    189310  38M   10,000,000+  Free     0       Everyone  Weather   \n",
       "\n",
       "        Last Updated         Current Ver         Android Ver  \n",
       "5415   July 29, 2018               5.5.9          4.1 and up  \n",
       "3083   July 29, 2018               5.5.9          4.1 and up  \n",
       "1755   July 31, 2018               4.0.0        4.0.3 and up  \n",
       "1703   July 31, 2018               4.0.0        4.0.3 and up  \n",
       "1871   July 31, 2018               4.0.0        4.0.3 and up  \n",
       "...              ...                 ...                 ...  \n",
       "2590   July 26, 2018               7.3.1          4.1 and up  \n",
       "2964   July 25, 2018              6.17.2          4.4 and up  \n",
       "3055   July 25, 2018              6.17.2          4.4 and up  \n",
       "3652  August 6, 2018  Varies with device  Varies with device  \n",
       "8291  August 6, 2018  Varies with device  Varies with device  \n",
       "\n",
       "[1221 rows x 13 columns]"
      ]
     },
     "execution_count": 498,
     "metadata": {},
     "output_type": "execute_result"
    }
   ],
   "source": [
    "a=apps['App']\n",
    "apps[a.isin(a[a.duplicated()])].sort_values('App')"
   ]
  },
  {
   "cell_type": "markdown",
   "metadata": {},
   "source": [
    "Duplicated apps differentiate only by number of reviews.\n",
    "We have to drop duplicated apps and keep information only by first attempt of app"
   ]
  },
  {
   "cell_type": "code",
   "execution_count": 499,
   "metadata": {},
   "outputs": [],
   "source": [
    "apps=apps.drop_duplicates(subset=['App'], keep='first')"
   ]
  },
  {
   "cell_type": "code",
   "execution_count": 500,
   "metadata": {},
   "outputs": [
    {
     "data": {
      "text/plain": [
       "(9648, 13)"
      ]
     },
     "execution_count": 500,
     "metadata": {},
     "output_type": "execute_result"
    }
   ],
   "source": [
    "apps.shape"
   ]
  },
  {
   "cell_type": "code",
   "execution_count": 501,
   "metadata": {},
   "outputs": [
    {
     "name": "stdout",
     "output_type": "stream",
     "text": [
      "<class 'pandas.core.frame.DataFrame'>\n",
      "Int64Index: 9648 entries, 0 to 10840\n",
      "Data columns (total 13 columns):\n",
      " #   Column          Non-Null Count  Dtype  \n",
      "---  ------          --------------  -----  \n",
      " 0   App             9648 non-null   object \n",
      " 1   Category        9648 non-null   object \n",
      " 2   Rating          9648 non-null   float64\n",
      " 3   Reviews         9648 non-null   object \n",
      " 4   Size            9648 non-null   object \n",
      " 5   Installs        9648 non-null   object \n",
      " 6   Type            9648 non-null   object \n",
      " 7   Price           9648 non-null   object \n",
      " 8   Content Rating  9648 non-null   object \n",
      " 9   Genres          9648 non-null   object \n",
      " 10  Last Updated    9648 non-null   object \n",
      " 11  Current Ver     9648 non-null   object \n",
      " 12  Android Ver     9648 non-null   object \n",
      "dtypes: float64(1), object(12)\n",
      "memory usage: 1.0+ MB\n"
     ]
    }
   ],
   "source": [
    "apps.info()"
   ]
  },
  {
   "cell_type": "markdown",
   "metadata": {},
   "source": [
    "We have to convert each column to the appropriate data type.  For example:to work with numeric values, we have to convert datatype of column to int or float"
   ]
  },
  {
   "cell_type": "code",
   "execution_count": 502,
   "metadata": {},
   "outputs": [
    {
     "data": {
      "text/html": [
       "<div>\n",
       "<style scoped>\n",
       "    .dataframe tbody tr th:only-of-type {\n",
       "        vertical-align: middle;\n",
       "    }\n",
       "\n",
       "    .dataframe tbody tr th {\n",
       "        vertical-align: top;\n",
       "    }\n",
       "\n",
       "    .dataframe thead th {\n",
       "        text-align: right;\n",
       "    }\n",
       "</style>\n",
       "<table border=\"1\" class=\"dataframe\">\n",
       "  <thead>\n",
       "    <tr style=\"text-align: right;\">\n",
       "      <th></th>\n",
       "      <th>App</th>\n",
       "      <th>Category</th>\n",
       "      <th>Rating</th>\n",
       "      <th>Reviews</th>\n",
       "      <th>Size</th>\n",
       "      <th>Installs</th>\n",
       "      <th>Type</th>\n",
       "      <th>Price</th>\n",
       "      <th>Content Rating</th>\n",
       "      <th>Genres</th>\n",
       "      <th>Last Updated</th>\n",
       "      <th>Current Ver</th>\n",
       "      <th>Android Ver</th>\n",
       "    </tr>\n",
       "  </thead>\n",
       "  <tbody>\n",
       "    <tr>\n",
       "      <th>0</th>\n",
       "      <td>Photo Editor &amp; Candy Camera &amp; Grid &amp; ScrapBook</td>\n",
       "      <td>ART_AND_DESIGN</td>\n",
       "      <td>4.1</td>\n",
       "      <td>159</td>\n",
       "      <td>19M</td>\n",
       "      <td>10,000+</td>\n",
       "      <td>Free</td>\n",
       "      <td>0</td>\n",
       "      <td>Everyone</td>\n",
       "      <td>Art &amp; Design</td>\n",
       "      <td>January 7, 2018</td>\n",
       "      <td>1.0.0</td>\n",
       "      <td>4.0.3 and up</td>\n",
       "    </tr>\n",
       "    <tr>\n",
       "      <th>1</th>\n",
       "      <td>Coloring book moana</td>\n",
       "      <td>ART_AND_DESIGN</td>\n",
       "      <td>3.9</td>\n",
       "      <td>967</td>\n",
       "      <td>14M</td>\n",
       "      <td>500,000+</td>\n",
       "      <td>Free</td>\n",
       "      <td>0</td>\n",
       "      <td>Everyone</td>\n",
       "      <td>Art &amp; Design;Pretend Play</td>\n",
       "      <td>January 15, 2018</td>\n",
       "      <td>2.0.0</td>\n",
       "      <td>4.0.3 and up</td>\n",
       "    </tr>\n",
       "    <tr>\n",
       "      <th>2</th>\n",
       "      <td>U Launcher Lite – FREE Live Cool Themes, Hide ...</td>\n",
       "      <td>ART_AND_DESIGN</td>\n",
       "      <td>4.7</td>\n",
       "      <td>87510</td>\n",
       "      <td>8.7M</td>\n",
       "      <td>5,000,000+</td>\n",
       "      <td>Free</td>\n",
       "      <td>0</td>\n",
       "      <td>Everyone</td>\n",
       "      <td>Art &amp; Design</td>\n",
       "      <td>August 1, 2018</td>\n",
       "      <td>1.2.4</td>\n",
       "      <td>4.0.3 and up</td>\n",
       "    </tr>\n",
       "    <tr>\n",
       "      <th>3</th>\n",
       "      <td>Sketch - Draw &amp; Paint</td>\n",
       "      <td>ART_AND_DESIGN</td>\n",
       "      <td>4.5</td>\n",
       "      <td>215644</td>\n",
       "      <td>25M</td>\n",
       "      <td>50,000,000+</td>\n",
       "      <td>Free</td>\n",
       "      <td>0</td>\n",
       "      <td>Teen</td>\n",
       "      <td>Art &amp; Design</td>\n",
       "      <td>June 8, 2018</td>\n",
       "      <td>Varies with device</td>\n",
       "      <td>4.2 and up</td>\n",
       "    </tr>\n",
       "    <tr>\n",
       "      <th>4</th>\n",
       "      <td>Pixel Draw - Number Art Coloring Book</td>\n",
       "      <td>ART_AND_DESIGN</td>\n",
       "      <td>4.3</td>\n",
       "      <td>967</td>\n",
       "      <td>2.8M</td>\n",
       "      <td>100,000+</td>\n",
       "      <td>Free</td>\n",
       "      <td>0</td>\n",
       "      <td>Everyone</td>\n",
       "      <td>Art &amp; Design;Creativity</td>\n",
       "      <td>June 20, 2018</td>\n",
       "      <td>1.1</td>\n",
       "      <td>4.4 and up</td>\n",
       "    </tr>\n",
       "  </tbody>\n",
       "</table>\n",
       "</div>"
      ],
      "text/plain": [
       "                                                 App        Category  Rating  \\\n",
       "0     Photo Editor & Candy Camera & Grid & ScrapBook  ART_AND_DESIGN     4.1   \n",
       "1                                Coloring book moana  ART_AND_DESIGN     3.9   \n",
       "2  U Launcher Lite – FREE Live Cool Themes, Hide ...  ART_AND_DESIGN     4.7   \n",
       "3                              Sketch - Draw & Paint  ART_AND_DESIGN     4.5   \n",
       "4              Pixel Draw - Number Art Coloring Book  ART_AND_DESIGN     4.3   \n",
       "\n",
       "  Reviews  Size     Installs  Type Price Content Rating  \\\n",
       "0     159   19M      10,000+  Free     0       Everyone   \n",
       "1     967   14M     500,000+  Free     0       Everyone   \n",
       "2   87510  8.7M   5,000,000+  Free     0       Everyone   \n",
       "3  215644   25M  50,000,000+  Free     0           Teen   \n",
       "4     967  2.8M     100,000+  Free     0       Everyone   \n",
       "\n",
       "                      Genres      Last Updated         Current Ver  \\\n",
       "0               Art & Design   January 7, 2018               1.0.0   \n",
       "1  Art & Design;Pretend Play  January 15, 2018               2.0.0   \n",
       "2               Art & Design    August 1, 2018               1.2.4   \n",
       "3               Art & Design      June 8, 2018  Varies with device   \n",
       "4    Art & Design;Creativity     June 20, 2018                 1.1   \n",
       "\n",
       "    Android Ver  \n",
       "0  4.0.3 and up  \n",
       "1  4.0.3 and up  \n",
       "2  4.0.3 and up  \n",
       "3    4.2 and up  \n",
       "4    4.4 and up  "
      ]
     },
     "execution_count": 502,
     "metadata": {},
     "output_type": "execute_result"
    }
   ],
   "source": [
    "apps.head()"
   ]
  },
  {
   "cell_type": "code",
   "execution_count": 503,
   "metadata": {},
   "outputs": [],
   "source": [
    "apps['Reviews'] = apps['Reviews'].astype(int)"
   ]
  },
  {
   "cell_type": "markdown",
   "metadata": {},
   "source": [
    "Converting 'Reviews' to int"
   ]
  },
  {
   "cell_type": "code",
   "execution_count": 504,
   "metadata": {},
   "outputs": [],
   "source": [
    "apps['Installs'] =apps['Installs'].str.replace(',','').str.replace('+','').astype('int')"
   ]
  },
  {
   "cell_type": "markdown",
   "metadata": {},
   "source": [
    "Converting 'Installs' to int. Removing ',' and '+' "
   ]
  },
  {
   "cell_type": "code",
   "execution_count": 505,
   "metadata": {},
   "outputs": [],
   "source": [
    "apps['Price']=apps['Price'].str.replace('$','').astype(float)"
   ]
  },
  {
   "cell_type": "markdown",
   "metadata": {},
   "source": [
    "Converting 'Price' to float. Removing '$'"
   ]
  },
  {
   "cell_type": "code",
   "execution_count": 506,
   "metadata": {},
   "outputs": [],
   "source": [
    "apps['Last Updated']=pd.to_datetime(apps['Last Updated'])"
   ]
  },
  {
   "cell_type": "markdown",
   "metadata": {},
   "source": [
    "Converting 'Last Updated' to datetime"
   ]
  },
  {
   "cell_type": "code",
   "execution_count": 507,
   "metadata": {},
   "outputs": [
    {
     "data": {
      "text/plain": [
       "array(['19M', '14M', '8.7M', '25M', '2.8M', '5.6M', '29M', '33M', '3.1M',\n",
       "       '28M', '12M', '20M', '21M', '37M', '5.5M', '17M', '39M', '31M',\n",
       "       '4.2M', '7.0M', '23M', '6.0M', '6.1M', '4.6M', '9.2M', '5.2M',\n",
       "       '11M', '24M', 'Varies with device', '9.4M', '15M', '10M', '1.2M',\n",
       "       '26M', '8.0M', '7.9M', '56M', '57M', '35M', '54M', '201k', '3.6M',\n",
       "       '5.7M', '8.6M', '2.4M', '27M', '2.7M', '2.5M', '16M', '3.4M',\n",
       "       '8.9M', '3.9M', '2.9M', '38M', '32M', '5.4M', '18M', '1.1M',\n",
       "       '2.2M', '4.5M', '9.8M', '52M', '9.0M', '6.7M', '30M', '2.6M',\n",
       "       '7.1M', '3.7M', '22M', '7.4M', '6.4M', '3.2M', '8.2M', '9.9M',\n",
       "       '4.9M', '9.5M', '5.0M', '5.9M', '13M', '73M', '6.8M', '3.5M',\n",
       "       '4.0M', '2.3M', '7.2M', '2.1M', '42M', '7.3M', '9.1M', '55M',\n",
       "       '23k', '6.5M', '1.5M', '7.5M', '51M', '41M', '48M', '8.5M', '46M',\n",
       "       '8.3M', '4.3M', '4.7M', '3.3M', '40M', '7.8M', '8.8M', '6.6M',\n",
       "       '5.1M', '61M', '66M', '79k', '8.4M', '118k', '44M', '695k', '1.6M',\n",
       "       '6.2M', '18k', '53M', '1.4M', '3.0M', '5.8M', '3.8M', '9.6M',\n",
       "       '45M', '63M', '49M', '77M', '4.4M', '4.8M', '70M', '6.9M', '9.3M',\n",
       "       '10.0M', '8.1M', '36M', '84M', '97M', '2.0M', '1.9M', '1.8M',\n",
       "       '5.3M', '47M', '556k', '526k', '76M', '7.6M', '59M', '9.7M', '78M',\n",
       "       '72M', '43M', '7.7M', '6.3M', '334k', '34M', '93M', '65M', '79M',\n",
       "       '100M', '58M', '50M', '68M', '64M', '67M', '60M', '94M', '232k',\n",
       "       '99M', '624k', '95M', '8.5k', '41k', '292k', '80M', '1.7M', '74M',\n",
       "       '62M', '69M', '75M', '98M', '85M', '82M', '96M', '87M', '71M',\n",
       "       '86M', '91M', '81M', '92M', '83M', '88M', '704k', '862k', '899k',\n",
       "       '378k', '266k', '375k', '1.3M', '975k', '980k', '4.1M', '89M',\n",
       "       '696k', '544k', '525k', '920k', '779k', '853k', '720k', '713k',\n",
       "       '772k', '318k', '58k', '241k', '196k', '857k', '51k', '953k',\n",
       "       '865k', '251k', '930k', '540k', '313k', '746k', '203k', '26k',\n",
       "       '314k', '239k', '371k', '220k', '730k', '756k', '91k', '293k',\n",
       "       '17k', '74k', '14k', '317k', '78k', '924k', '902k', '818k', '81k',\n",
       "       '939k', '169k', '45k', '475k', '965k', '90M', '545k', '61k',\n",
       "       '283k', '655k', '714k', '93k', '872k', '121k', '322k', '1.0M',\n",
       "       '976k', '172k', '238k', '549k', '206k', '954k', '444k', '717k',\n",
       "       '210k', '609k', '308k', '705k', '306k', '904k', '473k', '175k',\n",
       "       '350k', '383k', '454k', '421k', '70k', '812k', '442k', '842k',\n",
       "       '417k', '412k', '459k', '478k', '335k', '782k', '721k', '430k',\n",
       "       '429k', '192k', '200k', '460k', '728k', '496k', '816k', '414k',\n",
       "       '506k', '887k', '613k', '243k', '569k', '778k', '683k', '592k',\n",
       "       '319k', '186k', '840k', '647k', '191k', '373k', '437k', '598k',\n",
       "       '716k', '585k', '982k', '219k', '55k', '948k', '323k', '691k',\n",
       "       '511k', '951k', '963k', '25k', '554k', '351k', '27k', '82k',\n",
       "       '208k', '913k', '514k', '551k', '29k', '103k', '898k', '743k',\n",
       "       '116k', '153k', '209k', '353k', '499k', '173k', '597k', '809k',\n",
       "       '122k', '411k', '400k', '801k', '787k', '50k', '643k', '986k',\n",
       "       '97k', '516k', '837k', '780k', '961k', '269k', '20k', '498k',\n",
       "       '600k', '749k', '642k', '881k', '72k', '656k', '601k', '221k',\n",
       "       '228k', '108k', '940k', '176k', '33k', '663k', '34k', '942k',\n",
       "       '259k', '164k', '458k', '245k', '629k', '28k', '288k', '775k',\n",
       "       '785k', '636k', '916k', '994k', '309k', '485k', '914k', '903k',\n",
       "       '608k', '500k', '54k', '562k', '847k', '957k', '688k', '811k',\n",
       "       '270k', '48k', '329k', '523k', '921k', '874k', '981k', '784k',\n",
       "       '280k', '24k', '518k', '754k', '892k', '154k', '860k', '364k',\n",
       "       '387k', '626k', '161k', '879k', '39k', '970k', '170k', '141k',\n",
       "       '160k', '144k', '143k', '190k', '376k', '193k', '246k', '73k',\n",
       "       '992k', '253k', '420k', '404k', '470k', '226k', '240k', '89k',\n",
       "       '234k', '257k', '861k', '467k', '157k', '44k', '676k', '67k',\n",
       "       '552k', '885k', '1020k', '582k', '619k'], dtype=object)"
      ]
     },
     "execution_count": 507,
     "metadata": {},
     "output_type": "execute_result"
    }
   ],
   "source": [
    "apps['Size'].unique()"
   ]
  },
  {
   "cell_type": "markdown",
   "metadata": {},
   "source": [
    "'Size' column has different types of measurement, such as megabytes and kilobytes. We have to convert this types to common scale of measurement i.e. bytes and replace 'Varies with device' to 0"
   ]
  },
  {
   "cell_type": "code",
   "execution_count": 508,
   "metadata": {},
   "outputs": [],
   "source": [
    "#e - returns a float multiplied by the specified power of 10\n",
    "apps['Size'] = apps['Size'].str.replace('M','e+6').str.replace('k','e+3').str.replace('Varies with device',\"0\").astype('float')"
   ]
  },
  {
   "cell_type": "markdown",
   "metadata": {},
   "source": [
    "We finished data cleaning and preparation"
   ]
  },
  {
   "cell_type": "markdown",
   "metadata": {},
   "source": [
    "## 5. Data analysis and visualisation"
   ]
  },
  {
   "cell_type": "markdown",
   "metadata": {},
   "source": [
    "### 5.1 Q1: Which categories are the most popular? Show the most installed apps in each of the top 4 categories \n",
    "First we have to prepare data that will be used in plots. Then create visualization of given task"
   ]
  },
  {
   "cell_type": "code",
   "execution_count": 509,
   "metadata": {},
   "outputs": [],
   "source": [
    "# data preparation for Q1\n",
    "category_freq=apps['Category'].value_counts()"
   ]
  },
  {
   "cell_type": "code",
   "execution_count": 510,
   "metadata": {},
   "outputs": [
    {
     "data": {
      "text/plain": [
       "FAMILY      1828\n",
       "GAME         959\n",
       "TOOLS        825\n",
       "BUSINESS     420\n",
       "Name: Category, dtype: int64"
      ]
     },
     "execution_count": 510,
     "metadata": {},
     "output_type": "execute_result"
    }
   ],
   "source": [
    "apps['Category'].value_counts().head(4)"
   ]
  },
  {
   "cell_type": "markdown",
   "metadata": {},
   "source": [
    "4 most popular categories"
   ]
  },
  {
   "cell_type": "code",
   "execution_count": 511,
   "metadata": {},
   "outputs": [],
   "source": [
    "f_apps=apps[apps['Category'] == 'FAMILY'].sort_values(['Installs'],ascending=False).head(15)\n",
    "g_apps=apps[apps['Category'] == 'GAME'].sort_values(['Installs'],ascending=False).head(15)\n",
    "t_apps=apps[apps['Category'] == 'TOOLS'].sort_values(['Installs'],ascending=False).head(15)\n",
    "b_apps=apps[apps['Category'] == 'BUSINESS'].sort_values(['Installs'],ascending=False).head(15)"
   ]
  },
  {
   "cell_type": "markdown",
   "metadata": {},
   "source": [
    "15 the most installed apps in each of 4 category"
   ]
  },
  {
   "cell_type": "code",
   "execution_count": 512,
   "metadata": {},
   "outputs": [],
   "source": [
    "# visualisation code for Q1"
   ]
  },
  {
   "cell_type": "code",
   "execution_count": 513,
   "metadata": {},
   "outputs": [
    {
     "data": {
      "image/png": "[encoded data removed]",
      "text/plain": [
       "<Figure size 720x360 with 1 Axes>"
      ]
     },
     "metadata": {
      "needs_background": "light"
     },
     "output_type": "display_data"
    }
   ],
   "source": [
    "plt.subplots(figsize=(10,5))\n",
    "\n",
    "plt.bar(category_freq.index,category_freq,color='plum') #bar chart for visualization\n",
    "plt.title('Categories distribution',size=16)\n",
    "plt.ylabel(\"Number of Apps\",size=12)\n",
    "plt.xticks(size = 12,rotation=90) #rotation to make xticks vertical\n",
    "plt.yticks(size = 12)\n",
    "plt.show()"
   ]
  },
  {
   "cell_type": "code",
   "execution_count": 514,
   "metadata": {},
   "outputs": [
    {
     "data": {
      "text/plain": [
       "6269     100000000\n",
       "4229     100000000\n",
       "4111     100000000\n",
       "6849     100000000\n",
       "4329     100000000\n",
       "4217     100000000\n",
       "4797     100000000\n",
       "3975     100000000\n",
       "4247     100000000\n",
       "2104      50000000\n",
       "4580      50000000\n",
       "4060      50000000\n",
       "4326      50000000\n",
       "10513     50000000\n",
       "7404      50000000\n",
       "Name: Installs, dtype: int32"
      ]
     },
     "execution_count": 514,
     "metadata": {},
     "output_type": "execute_result"
    }
   ],
   "source": [
    "f_apps.Installs"
   ]
  },
  {
   "cell_type": "code",
   "execution_count": 515,
   "metadata": {},
   "outputs": [
    {
     "name": "stderr",
     "output_type": "stream",
     "text": [
      "C:\\Users\\Ademi\\anaconda3\\lib\\site-packages\\matplotlib\\backends\\backend_agg.py:238: RuntimeWarning: Glyph 12289 missing from current font.\n",
      "  font.set_text(s, 0.0, flags=flags)\n",
      "C:\\Users\\Ademi\\anaconda3\\lib\\site-packages\\matplotlib\\backends\\backend_agg.py:201: RuntimeWarning: Glyph 12289 missing from current font.\n",
      "  font.set_text(s, 0, flags=flags)\n"
     ]
    },
    {
     "data": {
      "image/png": "[encoded data removed]",
      "text/plain": [
       "<Figure size 1440x1080 with 4 Axes>"
      ]
     },
     "metadata": {
      "needs_background": "light"
     },
     "output_type": "display_data"
    }
   ],
   "source": [
    "\n",
    "fig, axs = plt.subplots(nrows=2, ncols=2, figsize = (20,15)) #number of rows and columns\n",
    "\n",
    "# FAMILY\n",
    "axs[0,0].barh(f_apps['App'],f_apps['Installs'],color='coral') #barh is horizontal bar charts\n",
    "axs[0,0].set(xticks=f_apps['Installs']) #set Installs as ticks for x axis and title of x axis\n",
    "axs[0,0].yaxis.set_tick_params(labelsize=13) #size of ticks for y axis\n",
    "axs[0,0].xaxis.set_tick_params(labelsize=13) #size of ticks for x axis\n",
    "axs[0,0].set_title('FAMILY', fontsize=20)\n",
    "axs[0,0].set_xlabel('Number of installs',size=15)\n",
    "\n",
    "\n",
    "# GAME\n",
    "axs[0,1].barh(g_apps['App'],g_apps['Installs'],color='skyblue')\n",
    "axs[0,1].set(xticks=g_apps['Installs'])\n",
    "axs[0,1].yaxis.set_tick_params(labelsize=13)\n",
    "axs[0,1].set_title('GAME', fontsize=20)\n",
    "axs[0,1].xaxis.set_tick_params(labelsize=13)\n",
    "axs[0,1].set_xlabel('Number of installs',size=15)\n",
    "\n",
    "\n",
    "# TOOLS\n",
    "axs[1,0].barh(t_apps['App'],t_apps['Installs'],color='khaki')\n",
    "axs[1,0].set(xticks=t_apps['Installs'])\n",
    "axs[1,0].yaxis.set_tick_params(labelsize=13)\n",
    "axs[1,0].set_title('TOOLS', fontsize=20)\n",
    "axs[1,0].xaxis.set_tick_params(labelsize=13)\n",
    "axs[1,0].set_xlabel('Number of installs',size=15)\n",
    "\n",
    "\n",
    "# BUSINESS\n",
    "axs[1,1].barh(b_apps['App'],b_apps['Installs'],color='mediumpurple')\n",
    "axs[1,1].set(xticks=b_apps['Installs'])\n",
    "axs[1,1].yaxis.set_tick_params(labelsize=13)\n",
    "axs[1,1].set_title('BUSINESS', fontsize=20)\n",
    "axs[1,1].xaxis.set_tick_params(labelsize=13)\n",
    "axs[1,1].set_xlabel('Number of installs',size=15)\n",
    "\n",
    "\n",
    "plt.subplots_adjust(left=0.1,bottom=0.1, right=0.9,top=0.9,wspace=0.9, hspace=0.4) \n",
    "#subplots_adjust refine location and paramentres of multiple plots within a single figure\n",
    "fig.suptitle(\"The most installed apps\", size=25)\n",
    "plt.show()"
   ]
  },
  {
   "cell_type": "markdown",
   "metadata": {},
   "source": [
    "We found the most popular categories: FAMILY, GAME, TOOLS and BUSINESS. Difference between number of apps of each category is big. By 'Categories distribution' plot we see that amount of apps of FAMILY category significantly exceeds the number of applications in other categories. \n",
    "<br>\n",
    "By 'The most installed apps' we define that in each of all categories except FAMILY exists one app with more than 1 million installs, Subway Surfers in GAME, Google in TOOLS, File Commander - File Manager/ Explorer in BUSINESS. In FAMILY category there almost 10 apps with more than 1 million installs. "
   ]
  },
  {
   "cell_type": "markdown",
   "metadata": {},
   "source": [
    "### 5.2 Q2: What is the average rating for applications that have not been updated for more than 3 years?\n",
    "First we have to calculate for how many years app was not been updated. Then use groupby function for grouping apps that have not been updated for more than 3 years be rating mean"
   ]
  },
  {
   "cell_type": "code",
   "execution_count": 516,
   "metadata": {},
   "outputs": [
    {
     "data": {
      "text/plain": [
       "Timestamp('2018-08-08 00:00:00')"
      ]
     },
     "execution_count": 516,
     "metadata": {},
     "output_type": "execute_result"
    }
   ],
   "source": [
    "apps['Last Updated'].max()"
   ]
  },
  {
   "cell_type": "markdown",
   "metadata": {},
   "source": [
    "Date of the most recent update"
   ]
  },
  {
   "cell_type": "code",
   "execution_count": 517,
   "metadata": {},
   "outputs": [
    {
     "data": {
      "text/html": [
       "<div>\n",
       "<style scoped>\n",
       "    .dataframe tbody tr th:only-of-type {\n",
       "        vertical-align: middle;\n",
       "    }\n",
       "\n",
       "    .dataframe tbody tr th {\n",
       "        vertical-align: top;\n",
       "    }\n",
       "\n",
       "    .dataframe thead th {\n",
       "        text-align: right;\n",
       "    }\n",
       "</style>\n",
       "<table border=\"1\" class=\"dataframe\">\n",
       "  <thead>\n",
       "    <tr style=\"text-align: right;\">\n",
       "      <th></th>\n",
       "      <th>App</th>\n",
       "      <th>Category</th>\n",
       "      <th>Rating</th>\n",
       "      <th>Reviews</th>\n",
       "      <th>Size</th>\n",
       "      <th>Installs</th>\n",
       "      <th>Type</th>\n",
       "      <th>Price</th>\n",
       "      <th>Content Rating</th>\n",
       "      <th>Genres</th>\n",
       "      <th>Last Updated</th>\n",
       "      <th>Current Ver</th>\n",
       "      <th>Android Ver</th>\n",
       "      <th>Year</th>\n",
       "    </tr>\n",
       "  </thead>\n",
       "  <tbody>\n",
       "    <tr>\n",
       "      <th>7479</th>\n",
       "      <td>FML F*ck my life + widget</td>\n",
       "      <td>FAMILY</td>\n",
       "      <td>4.2</td>\n",
       "      <td>1415</td>\n",
       "      <td>209000.0</td>\n",
       "      <td>100000</td>\n",
       "      <td>Free</td>\n",
       "      <td>0.0</td>\n",
       "      <td>Everyone</td>\n",
       "      <td>Entertainment</td>\n",
       "      <td>2010-05-21</td>\n",
       "      <td>3.1</td>\n",
       "      <td>1.5 and up</td>\n",
       "      <td>8</td>\n",
       "    </tr>\n",
       "    <tr>\n",
       "      <th>5561</th>\n",
       "      <td>Satellite AR</td>\n",
       "      <td>BOOKS_AND_REFERENCE</td>\n",
       "      <td>4.1</td>\n",
       "      <td>9636</td>\n",
       "      <td>93000.0</td>\n",
       "      <td>1000000</td>\n",
       "      <td>Free</td>\n",
       "      <td>0.0</td>\n",
       "      <td>Everyone</td>\n",
       "      <td>Books &amp; Reference</td>\n",
       "      <td>2011-09-22</td>\n",
       "      <td>2.4</td>\n",
       "      <td>2.1 and up</td>\n",
       "      <td>7</td>\n",
       "    </tr>\n",
       "    <tr>\n",
       "      <th>7430</th>\n",
       "      <td>CJ Poker Odds Calculator</td>\n",
       "      <td>GAME</td>\n",
       "      <td>4.1</td>\n",
       "      <td>207</td>\n",
       "      <td>116000.0</td>\n",
       "      <td>50000</td>\n",
       "      <td>Free</td>\n",
       "      <td>0.0</td>\n",
       "      <td>Everyone</td>\n",
       "      <td>Card</td>\n",
       "      <td>2011-01-30</td>\n",
       "      <td>1.2</td>\n",
       "      <td>1.6 and up</td>\n",
       "      <td>7</td>\n",
       "    </tr>\n",
       "    <tr>\n",
       "      <th>8084</th>\n",
       "      <td>Freecell CY</td>\n",
       "      <td>GAME</td>\n",
       "      <td>4.0</td>\n",
       "      <td>387</td>\n",
       "      <td>1100000.0</td>\n",
       "      <td>50000</td>\n",
       "      <td>Free</td>\n",
       "      <td>0.0</td>\n",
       "      <td>Everyone</td>\n",
       "      <td>Card</td>\n",
       "      <td>2011-04-16</td>\n",
       "      <td>1.3.3</td>\n",
       "      <td>1.6 and up</td>\n",
       "      <td>7</td>\n",
       "    </tr>\n",
       "    <tr>\n",
       "      <th>7487</th>\n",
       "      <td>CONTRACT KILLER: ZOMBIES</td>\n",
       "      <td>GAME</td>\n",
       "      <td>4.4</td>\n",
       "      <td>144545</td>\n",
       "      <td>13000000.0</td>\n",
       "      <td>5000000</td>\n",
       "      <td>Free</td>\n",
       "      <td>0.0</td>\n",
       "      <td>Teen</td>\n",
       "      <td>Action</td>\n",
       "      <td>2011-12-01</td>\n",
       "      <td>1.1.0</td>\n",
       "      <td>2.1 and up</td>\n",
       "      <td>7</td>\n",
       "    </tr>\n",
       "    <tr>\n",
       "      <th>...</th>\n",
       "      <td>...</td>\n",
       "      <td>...</td>\n",
       "      <td>...</td>\n",
       "      <td>...</td>\n",
       "      <td>...</td>\n",
       "      <td>...</td>\n",
       "      <td>...</td>\n",
       "      <td>...</td>\n",
       "      <td>...</td>\n",
       "      <td>...</td>\n",
       "      <td>...</td>\n",
       "      <td>...</td>\n",
       "      <td>...</td>\n",
       "      <td>...</td>\n",
       "    </tr>\n",
       "    <tr>\n",
       "      <th>4063</th>\n",
       "      <td>Screen Lock - with Fingerprint Simulator</td>\n",
       "      <td>TOOLS</td>\n",
       "      <td>3.7</td>\n",
       "      <td>338449</td>\n",
       "      <td>2800000.0</td>\n",
       "      <td>10000000</td>\n",
       "      <td>Free</td>\n",
       "      <td>0.0</td>\n",
       "      <td>Everyone</td>\n",
       "      <td>Tools</td>\n",
       "      <td>2018-06-19</td>\n",
       "      <td>8.6</td>\n",
       "      <td>2.3.3 and up</td>\n",
       "      <td>0</td>\n",
       "    </tr>\n",
       "    <tr>\n",
       "      <th>4062</th>\n",
       "      <td>Broken Screen Prank</td>\n",
       "      <td>FAMILY</td>\n",
       "      <td>3.3</td>\n",
       "      <td>23682</td>\n",
       "      <td>9800000.0</td>\n",
       "      <td>1000000</td>\n",
       "      <td>Free</td>\n",
       "      <td>0.0</td>\n",
       "      <td>Teen</td>\n",
       "      <td>Casual</td>\n",
       "      <td>2018-06-14</td>\n",
       "      <td>6.2</td>\n",
       "      <td>4.0 and up</td>\n",
       "      <td>0</td>\n",
       "    </tr>\n",
       "    <tr>\n",
       "      <th>4061</th>\n",
       "      <td>Temple Run</td>\n",
       "      <td>GAME</td>\n",
       "      <td>4.3</td>\n",
       "      <td>4000433</td>\n",
       "      <td>42000000.0</td>\n",
       "      <td>100000000</td>\n",
       "      <td>Free</td>\n",
       "      <td>0.0</td>\n",
       "      <td>Everyone</td>\n",
       "      <td>Arcade</td>\n",
       "      <td>2018-08-02</td>\n",
       "      <td>1.9.1</td>\n",
       "      <td>4.0 and up</td>\n",
       "      <td>0</td>\n",
       "    </tr>\n",
       "    <tr>\n",
       "      <th>4058</th>\n",
       "      <td>Z Ringtones PREMIUM 2018</td>\n",
       "      <td>PERSONALIZATION</td>\n",
       "      <td>4.5</td>\n",
       "      <td>10158</td>\n",
       "      <td>3600000.0</td>\n",
       "      <td>500000</td>\n",
       "      <td>Free</td>\n",
       "      <td>0.0</td>\n",
       "      <td>Everyone</td>\n",
       "      <td>Personalization</td>\n",
       "      <td>2018-03-01</td>\n",
       "      <td>1.5</td>\n",
       "      <td>4.0.3 and up</td>\n",
       "      <td>0</td>\n",
       "    </tr>\n",
       "    <tr>\n",
       "      <th>10840</th>\n",
       "      <td>iHoroscope - 2018 Daily Horoscope &amp; Astrology</td>\n",
       "      <td>LIFESTYLE</td>\n",
       "      <td>4.5</td>\n",
       "      <td>398307</td>\n",
       "      <td>19000000.0</td>\n",
       "      <td>10000000</td>\n",
       "      <td>Free</td>\n",
       "      <td>0.0</td>\n",
       "      <td>Everyone</td>\n",
       "      <td>Lifestyle</td>\n",
       "      <td>2018-07-25</td>\n",
       "      <td>Varies with device</td>\n",
       "      <td>Varies with device</td>\n",
       "      <td>0</td>\n",
       "    </tr>\n",
       "  </tbody>\n",
       "</table>\n",
       "<p>9648 rows × 14 columns</p>\n",
       "</div>"
      ],
      "text/plain": [
       "                                                 App             Category  \\\n",
       "7479                       FML F*ck my life + widget               FAMILY   \n",
       "5561                                    Satellite AR  BOOKS_AND_REFERENCE   \n",
       "7430                        CJ Poker Odds Calculator                 GAME   \n",
       "8084                                     Freecell CY                 GAME   \n",
       "7487                        CONTRACT KILLER: ZOMBIES                 GAME   \n",
       "...                                              ...                  ...   \n",
       "4063        Screen Lock - with Fingerprint Simulator                TOOLS   \n",
       "4062                             Broken Screen Prank               FAMILY   \n",
       "4061                                      Temple Run                 GAME   \n",
       "4058                        Z Ringtones PREMIUM 2018      PERSONALIZATION   \n",
       "10840  iHoroscope - 2018 Daily Horoscope & Astrology            LIFESTYLE   \n",
       "\n",
       "       Rating  Reviews        Size   Installs  Type  Price Content Rating  \\\n",
       "7479      4.2     1415    209000.0     100000  Free    0.0       Everyone   \n",
       "5561      4.1     9636     93000.0    1000000  Free    0.0       Everyone   \n",
       "7430      4.1      207    116000.0      50000  Free    0.0       Everyone   \n",
       "8084      4.0      387   1100000.0      50000  Free    0.0       Everyone   \n",
       "7487      4.4   144545  13000000.0    5000000  Free    0.0           Teen   \n",
       "...       ...      ...         ...        ...   ...    ...            ...   \n",
       "4063      3.7   338449   2800000.0   10000000  Free    0.0       Everyone   \n",
       "4062      3.3    23682   9800000.0    1000000  Free    0.0           Teen   \n",
       "4061      4.3  4000433  42000000.0  100000000  Free    0.0       Everyone   \n",
       "4058      4.5    10158   3600000.0     500000  Free    0.0       Everyone   \n",
       "10840     4.5   398307  19000000.0   10000000  Free    0.0       Everyone   \n",
       "\n",
       "                  Genres Last Updated         Current Ver         Android Ver  \\\n",
       "7479       Entertainment   2010-05-21                 3.1          1.5 and up   \n",
       "5561   Books & Reference   2011-09-22                 2.4          2.1 and up   \n",
       "7430                Card   2011-01-30                 1.2          1.6 and up   \n",
       "8084                Card   2011-04-16               1.3.3          1.6 and up   \n",
       "7487              Action   2011-12-01               1.1.0          2.1 and up   \n",
       "...                  ...          ...                 ...                 ...   \n",
       "4063               Tools   2018-06-19                 8.6        2.3.3 and up   \n",
       "4062              Casual   2018-06-14                 6.2          4.0 and up   \n",
       "4061              Arcade   2018-08-02               1.9.1          4.0 and up   \n",
       "4058     Personalization   2018-03-01                 1.5        4.0.3 and up   \n",
       "10840          Lifestyle   2018-07-25  Varies with device  Varies with device   \n",
       "\n",
       "       Year  \n",
       "7479      8  \n",
       "5561      7  \n",
       "7430      7  \n",
       "8084      7  \n",
       "7487      7  \n",
       "...     ...  \n",
       "4063      0  \n",
       "4062      0  \n",
       "4061      0  \n",
       "4058      0  \n",
       "10840     0  \n",
       "\n",
       "[9648 rows x 14 columns]"
      ]
     },
     "execution_count": 517,
     "metadata": {},
     "output_type": "execute_result"
    }
   ],
   "source": [
    "from datetime import datetime #importing datetime library\n",
    "\n",
    "now = datetime.strptime('08-08-2018', \"%d-%m-%Y\") #we define the current date as date of the most recent update\n",
    "apps['Year'] = now.year - apps['Last Updated'].dt.year  #add column 'Year'- year of not updating of app\n",
    "apps.sort_values('Year',ascending=False)"
   ]
  },
  {
   "cell_type": "markdown",
   "metadata": {},
   "source": [
    "Apps were not updated at most for 8 years. 0 means that app was updated current year lust time"
   ]
  },
  {
   "cell_type": "code",
   "execution_count": 518,
   "metadata": {},
   "outputs": [
    {
     "data": {
      "text/plain": [
       "Year\n",
       "4    4.059606\n",
       "5    4.103738\n",
       "6    3.884615\n",
       "7    3.966667\n",
       "8    4.200000\n",
       "Name: Rating, dtype: float64"
      ]
     },
     "execution_count": 518,
     "metadata": {},
     "output_type": "execute_result"
    }
   ],
   "source": [
    "old=apps[apps['Year']>3] \n",
    "old=old.groupby('Year').Rating.mean() #grouping mean rating of apps by year of not updating \n",
    "old"
   ]
  },
  {
   "cell_type": "code",
   "execution_count": 519,
   "metadata": {},
   "outputs": [],
   "source": [
    "# visualisation code for Q2"
   ]
  },
  {
   "cell_type": "code",
   "execution_count": 520,
   "metadata": {},
   "outputs": [
    {
     "data": {
      "image/png": "[encoded data removed]",
      "text/plain": [
       "<Figure size 720x360 with 1 Axes>"
      ]
     },
     "metadata": {
      "needs_background": "light"
     },
     "output_type": "display_data"
    }
   ],
   "source": [
    "plt.subplots(figsize=(10,5))\n",
    "\n",
    "plt.plot(old.index,old,color='crimson') #line plot; for x axis - average ratings, foy y - years\n",
    "plt.title('Years of not updating',size=16)\n",
    "plt.ylabel(\"Average rating\",size=13)\n",
    "plt.xlabel(\"Years\",size=13)\n",
    "plt.xticks(old.index,size = 12) #clarify that ticks - years of not updating\n",
    "plt.yticks(size = 12) \n",
    "\n",
    "\n",
    "plt.show()"
   ]
  },
  {
   "cell_type": "markdown",
   "metadata": {},
   "source": [
    "By graph we can see that rating of app does not depend from the update version.But we cannot exclude case when app is not in use and rating was dedicated by old user ratings.Also rating could given by small amount of people. That is why rating can not be considarable as first parameter when we want to find out about popularity of app"
   ]
  },
  {
   "cell_type": "markdown",
   "metadata": {},
   "source": [
    "\n",
    "### 5.3 Q3: How does the type of application (Paid or Free) affect the download frequency? \n"
   ]
  },
  {
   "cell_type": "code",
   "execution_count": 521,
   "metadata": {
    "scrolled": true
   },
   "outputs": [
    {
     "name": "stdout",
     "output_type": "stream",
     "text": [
      "753\n",
      "8895\n"
     ]
    }
   ],
   "source": [
    "plen=apps[apps['Type']=='Paid'].shape[0]\n",
    "flen=apps[apps['Type']=='Free'].shape[0]\n",
    "print(plen)\n",
    "print(flen)"
   ]
  },
  {
   "cell_type": "markdown",
   "metadata": {},
   "source": [
    "We found out that there are 762 paid and 9584 free apps in dataframe"
   ]
  },
  {
   "cell_type": "code",
   "execution_count": 522,
   "metadata": {},
   "outputs": [],
   "source": [
    "sep=apps.groupby('Type').Installs.value_counts()"
   ]
  },
  {
   "cell_type": "markdown",
   "metadata": {},
   "source": [
    "Group by type unique number of installs\n"
   ]
  },
  {
   "cell_type": "code",
   "execution_count": 523,
   "metadata": {},
   "outputs": [
    {
     "data": {
      "image/png": "[encoded data removed]",
      "text/plain": [
       "<Figure size 504x504 with 1 Axes>"
      ]
     },
     "metadata": {},
     "output_type": "display_data"
    }
   ],
   "source": [
    "plt.figure(figsize=(7,7))\n",
    "plt.pie(apps['Type'].value_counts(),labels=apps['Type'].unique(),colors=['cornflowerblue','violet'],autopct='%.1f%%') \n",
    "#autopct to show distribution percents\n",
    "plt.title('Apps Type')\n",
    "plt.legend()\n",
    "plt.show()"
   ]
  },
  {
   "cell_type": "markdown",
   "metadata": {},
   "source": [
    "Paid and Free apps on pie chart"
   ]
  },
  {
   "cell_type": "code",
   "execution_count": 524,
   "metadata": {
    "scrolled": true
   },
   "outputs": [
    {
     "data": {
      "image/png": "[encoded data removed]",
      "text/plain": [
       "<Figure size 720x360 with 1 Axes>"
      ]
     },
     "metadata": {
      "needs_background": "light"
     },
     "output_type": "display_data"
    }
   ],
   "source": [
    "fig, ax = plt.subplots(figsize=(10,5)) #scatter plot\n",
    "\n",
    "ax.scatter(sep['Free'].index, sep['Free'].values,color = 'tomato',s = 15) #s is size of circles\n",
    "ax.scatter(sep['Paid'].index, sep['Paid'].values, c = 'b',s = 15) \n",
    "ax.set_title('Installs by type',size=16)\n",
    "plt.xticks(size = 12)\n",
    "plt.ylabel(\"Number of Apps\",size=12)\n",
    "plt.xlabel(\"Installs\",size=12)\n",
    "plt.legend(apps['Type'].unique())\n",
    "\n",
    "\n",
    "plt.show()"
   ]
  },
  {
   "cell_type": "markdown",
   "metadata": {},
   "source": [
    "People install free apps more often.7.8% of apps are Paid. It is clear that the most number of installs have free apps. By scatter plot we confirm that."
   ]
  },
  {
   "cell_type": "markdown",
   "metadata": {},
   "source": [
    "### 5.4 Q4:  Are there any dependence of app size on Android version of mobile? Describe the relationship between them. "
   ]
  },
  {
   "cell_type": "code",
   "execution_count": 525,
   "metadata": {},
   "outputs": [],
   "source": [
    "av=apps['Android Ver'].value_counts() "
   ]
  },
  {
   "cell_type": "code",
   "execution_count": 526,
   "metadata": {},
   "outputs": [
    {
     "data": {
      "image/png": "[encoded data removed]",
      "text/plain": [
       "<Figure size 720x360 with 1 Axes>"
      ]
     },
     "metadata": {
      "needs_background": "light"
     },
     "output_type": "display_data"
    }
   ],
   "source": [
    "plt.subplots(figsize=(10,5))\n",
    "\n",
    "plt.bar(av.index,av,color='lightpink') #bar chart for visualization\n",
    "plt.title('Android versions distribution',size=16)\n",
    "plt.ylabel(\"Number of Apps\",size=12)\n",
    "plt.xticks(size = 12,rotation=90) #rotation to make xticks vertical\n",
    "plt.yticks(size = 12)\n",
    "plt.show()"
   ]
  },
  {
   "cell_type": "markdown",
   "metadata": {},
   "source": [
    "We see that the most number of apps can be download on 4.1 and up Android versions. By this plot we can clearly see distribution android versions. But we can not do such distribution for Size column, because every app has different size. So how can we connect size of apps and versions of Android? I think we can find maximum size of app that can be downloaded on mobile of certain Android version, after that create plot. It can be done by groupby function:"
   ]
  },
  {
   "cell_type": "code",
   "execution_count": 527,
   "metadata": {},
   "outputs": [
    {
     "data": {
      "text/html": [
       "<div>\n",
       "<style scoped>\n",
       "    .dataframe tbody tr th:only-of-type {\n",
       "        vertical-align: middle;\n",
       "    }\n",
       "\n",
       "    .dataframe tbody tr th {\n",
       "        vertical-align: top;\n",
       "    }\n",
       "\n",
       "    .dataframe thead th {\n",
       "        text-align: right;\n",
       "    }\n",
       "</style>\n",
       "<table border=\"1\" class=\"dataframe\">\n",
       "  <thead>\n",
       "    <tr style=\"text-align: right;\">\n",
       "      <th></th>\n",
       "      <th>Android Ver</th>\n",
       "      <th>Size</th>\n",
       "    </tr>\n",
       "  </thead>\n",
       "  <tbody>\n",
       "    <tr>\n",
       "      <th>0</th>\n",
       "      <td>1.0 and up</td>\n",
       "      <td>6900000.0</td>\n",
       "    </tr>\n",
       "    <tr>\n",
       "      <th>1</th>\n",
       "      <td>1.5 and up</td>\n",
       "      <td>48000000.0</td>\n",
       "    </tr>\n",
       "    <tr>\n",
       "      <th>2</th>\n",
       "      <td>1.6 and up</td>\n",
       "      <td>50000000.0</td>\n",
       "    </tr>\n",
       "    <tr>\n",
       "      <th>3</th>\n",
       "      <td>2.0 and up</td>\n",
       "      <td>44000000.0</td>\n",
       "    </tr>\n",
       "    <tr>\n",
       "      <th>4</th>\n",
       "      <td>2.0.1 and up</td>\n",
       "      <td>45000000.0</td>\n",
       "    </tr>\n",
       "  </tbody>\n",
       "</table>\n",
       "</div>"
      ],
      "text/plain": [
       "    Android Ver        Size\n",
       "0    1.0 and up   6900000.0\n",
       "1    1.5 and up  48000000.0\n",
       "2    1.6 and up  50000000.0\n",
       "3    2.0 and up  44000000.0\n",
       "4  2.0.1 and up  45000000.0"
      ]
     },
     "execution_count": 527,
     "metadata": {},
     "output_type": "execute_result"
    }
   ],
   "source": [
    "version = apps.groupby('Android Ver',as_index=False).Size.max()\n",
    "version.head()"
   ]
  },
  {
   "cell_type": "markdown",
   "metadata": {},
   "source": [
    "Now we can use plot. But Android versions have too long values. To shorten them we replace 'and up', 'Varies with device'."
   ]
  },
  {
   "cell_type": "code",
   "execution_count": 528,
   "metadata": {},
   "outputs": [
    {
     "data": {
      "text/html": [
       "<div>\n",
       "<style scoped>\n",
       "    .dataframe tbody tr th:only-of-type {\n",
       "        vertical-align: middle;\n",
       "    }\n",
       "\n",
       "    .dataframe tbody tr th {\n",
       "        vertical-align: top;\n",
       "    }\n",
       "\n",
       "    .dataframe thead th {\n",
       "        text-align: right;\n",
       "    }\n",
       "</style>\n",
       "<table border=\"1\" class=\"dataframe\">\n",
       "  <thead>\n",
       "    <tr style=\"text-align: right;\">\n",
       "      <th></th>\n",
       "      <th>Android Ver</th>\n",
       "      <th>Size</th>\n",
       "    </tr>\n",
       "  </thead>\n",
       "  <tbody>\n",
       "    <tr>\n",
       "      <th>0</th>\n",
       "      <td>1.0</td>\n",
       "      <td>6900000.0</td>\n",
       "    </tr>\n",
       "    <tr>\n",
       "      <th>1</th>\n",
       "      <td>1.5</td>\n",
       "      <td>48000000.0</td>\n",
       "    </tr>\n",
       "    <tr>\n",
       "      <th>2</th>\n",
       "      <td>1.6</td>\n",
       "      <td>50000000.0</td>\n",
       "    </tr>\n",
       "    <tr>\n",
       "      <th>3</th>\n",
       "      <td>2.0</td>\n",
       "      <td>44000000.0</td>\n",
       "    </tr>\n",
       "    <tr>\n",
       "      <th>4</th>\n",
       "      <td>2.0.1</td>\n",
       "      <td>45000000.0</td>\n",
       "    </tr>\n",
       "  </tbody>\n",
       "</table>\n",
       "</div>"
      ],
      "text/plain": [
       "  Android Ver        Size\n",
       "0        1.0    6900000.0\n",
       "1        1.5   48000000.0\n",
       "2        1.6   50000000.0\n",
       "3        2.0   44000000.0\n",
       "4      2.0.1   45000000.0"
      ]
     },
     "execution_count": 528,
     "metadata": {},
     "output_type": "execute_result"
    }
   ],
   "source": [
    "version['Android Ver']=version['Android Ver'].str.replace('and up','').str.replace('Varies with device','Varies')\n",
    "version.head()"
   ]
  },
  {
   "cell_type": "code",
   "execution_count": 529,
   "metadata": {},
   "outputs": [
    {
     "data": {
      "image/png": "[encoded data removed]",
      "text/plain": [
       "<Figure size 2160x720 with 1 Axes>"
      ]
     },
     "metadata": {
      "needs_background": "light"
     },
     "output_type": "display_data"
    }
   ],
   "source": [
    "plt.subplots(figsize=(30,10))\n",
    "\n",
    "plt.plot(version['Android Ver'], version['Size']) #line plot; for x axis - Android Ver, foy y - Max Size\n",
    "plt.title('Max size by Anroid Ver',size=16)\n",
    "plt.ylabel(\"Maximum size\",size=13)\n",
    "plt.xlabel(\"Android ver\",size=13)\n",
    "plt.yticks(size = 12) \n",
    "plt.show()"
   ]
  },
  {
   "cell_type": "markdown",
   "metadata": {},
   "source": [
    "We notice that devices that have an older versions can not download big apps. But There are some outliers in graph that occur at random on different Android versions.By graphic we see that there is weak relationship between max size of app and Android Version."
   ]
  },
  {
   "cell_type": "markdown",
   "metadata": {},
   "source": [
    "### 5.5 Q5: Compare by rating the most popular and the least popular apps in 'Everyone', 'Teen', 'Adults only 18+' content ratings"
   ]
  },
  {
   "cell_type": "code",
   "execution_count": 530,
   "metadata": {
    "scrolled": true
   },
   "outputs": [],
   "source": [
    "ev=apps[apps['Content Rating']=='Everyone'].sort_values(by=['Installs','Rating','Reviews'],ascending=False) #sort by descending \n",
    "teen=apps[apps['Content Rating']=='Teen'].sort_values(by=['Installs','Rating','Reviews'],ascending=False)\n",
    "adult=apps[apps['Content Rating']=='Adults only 18+'].sort_values(by=['Installs','Rating','Reviews'],ascending=False)"
   ]
  },
  {
   "cell_type": "markdown",
   "metadata": {},
   "source": [
    "Popularity defines first by number of Installs, then Rating and number of Reviews "
   ]
  },
  {
   "cell_type": "code",
   "execution_count": 531,
   "metadata": {},
   "outputs": [
    {
     "data": {
      "text/html": [
       "<div>\n",
       "<style scoped>\n",
       "    .dataframe tbody tr th:only-of-type {\n",
       "        vertical-align: middle;\n",
       "    }\n",
       "\n",
       "    .dataframe tbody tr th {\n",
       "        vertical-align: top;\n",
       "    }\n",
       "\n",
       "    .dataframe thead th {\n",
       "        text-align: right;\n",
       "    }\n",
       "</style>\n",
       "<table border=\"1\" class=\"dataframe\">\n",
       "  <thead>\n",
       "    <tr style=\"text-align: right;\">\n",
       "      <th></th>\n",
       "      <th>App</th>\n",
       "      <th>Category</th>\n",
       "      <th>Rating</th>\n",
       "      <th>Reviews</th>\n",
       "      <th>Size</th>\n",
       "      <th>Installs</th>\n",
       "      <th>Type</th>\n",
       "      <th>Price</th>\n",
       "      <th>Content Rating</th>\n",
       "      <th>Genres</th>\n",
       "      <th>Last Updated</th>\n",
       "      <th>Current Ver</th>\n",
       "      <th>Android Ver</th>\n",
       "      <th>Year</th>\n",
       "    </tr>\n",
       "  </thead>\n",
       "  <tbody>\n",
       "    <tr>\n",
       "      <th>2808</th>\n",
       "      <td>Google Photos</td>\n",
       "      <td>PHOTOGRAPHY</td>\n",
       "      <td>4.5</td>\n",
       "      <td>10858556</td>\n",
       "      <td>0.0</td>\n",
       "      <td>1000000000</td>\n",
       "      <td>Free</td>\n",
       "      <td>0.0</td>\n",
       "      <td>Everyone</td>\n",
       "      <td>Photography</td>\n",
       "      <td>2018-08-06</td>\n",
       "      <td>Varies with device</td>\n",
       "      <td>Varies with device</td>\n",
       "      <td>0</td>\n",
       "    </tr>\n",
       "    <tr>\n",
       "      <th>336</th>\n",
       "      <td>WhatsApp Messenger</td>\n",
       "      <td>COMMUNICATION</td>\n",
       "      <td>4.4</td>\n",
       "      <td>69119316</td>\n",
       "      <td>0.0</td>\n",
       "      <td>1000000000</td>\n",
       "      <td>Free</td>\n",
       "      <td>0.0</td>\n",
       "      <td>Everyone</td>\n",
       "      <td>Communication</td>\n",
       "      <td>2018-08-03</td>\n",
       "      <td>Varies with device</td>\n",
       "      <td>Varies with device</td>\n",
       "      <td>0</td>\n",
       "    </tr>\n",
       "    <tr>\n",
       "      <th>3234</th>\n",
       "      <td>Google</td>\n",
       "      <td>TOOLS</td>\n",
       "      <td>4.4</td>\n",
       "      <td>8033493</td>\n",
       "      <td>0.0</td>\n",
       "      <td>1000000000</td>\n",
       "      <td>Free</td>\n",
       "      <td>0.0</td>\n",
       "      <td>Everyone</td>\n",
       "      <td>Tools</td>\n",
       "      <td>2018-08-03</td>\n",
       "      <td>Varies with device</td>\n",
       "      <td>Varies with device</td>\n",
       "      <td>0</td>\n",
       "    </tr>\n",
       "    <tr>\n",
       "      <th>3454</th>\n",
       "      <td>Google Drive</td>\n",
       "      <td>PRODUCTIVITY</td>\n",
       "      <td>4.4</td>\n",
       "      <td>2731171</td>\n",
       "      <td>0.0</td>\n",
       "      <td>1000000000</td>\n",
       "      <td>Free</td>\n",
       "      <td>0.0</td>\n",
       "      <td>Everyone</td>\n",
       "      <td>Productivity</td>\n",
       "      <td>2018-08-06</td>\n",
       "      <td>Varies with device</td>\n",
       "      <td>Varies with device</td>\n",
       "      <td>0</td>\n",
       "    </tr>\n",
       "    <tr>\n",
       "      <th>338</th>\n",
       "      <td>Google Chrome: Fast &amp; Secure</td>\n",
       "      <td>COMMUNICATION</td>\n",
       "      <td>4.3</td>\n",
       "      <td>9642995</td>\n",
       "      <td>0.0</td>\n",
       "      <td>1000000000</td>\n",
       "      <td>Free</td>\n",
       "      <td>0.0</td>\n",
       "      <td>Everyone</td>\n",
       "      <td>Communication</td>\n",
       "      <td>2018-08-01</td>\n",
       "      <td>Varies with device</td>\n",
       "      <td>Varies with device</td>\n",
       "      <td>0</td>\n",
       "    </tr>\n",
       "  </tbody>\n",
       "</table>\n",
       "</div>"
      ],
      "text/plain": [
       "                               App       Category  Rating   Reviews  Size  \\\n",
       "2808                 Google Photos    PHOTOGRAPHY     4.5  10858556   0.0   \n",
       "336             WhatsApp Messenger  COMMUNICATION     4.4  69119316   0.0   \n",
       "3234                        Google          TOOLS     4.4   8033493   0.0   \n",
       "3454                  Google Drive   PRODUCTIVITY     4.4   2731171   0.0   \n",
       "338   Google Chrome: Fast & Secure  COMMUNICATION     4.3   9642995   0.0   \n",
       "\n",
       "        Installs  Type  Price Content Rating         Genres Last Updated  \\\n",
       "2808  1000000000  Free    0.0       Everyone    Photography   2018-08-06   \n",
       "336   1000000000  Free    0.0       Everyone  Communication   2018-08-03   \n",
       "3234  1000000000  Free    0.0       Everyone          Tools   2018-08-03   \n",
       "3454  1000000000  Free    0.0       Everyone   Productivity   2018-08-06   \n",
       "338   1000000000  Free    0.0       Everyone  Communication   2018-08-01   \n",
       "\n",
       "             Current Ver         Android Ver  Year  \n",
       "2808  Varies with device  Varies with device     0  \n",
       "336   Varies with device  Varies with device     0  \n",
       "3234  Varies with device  Varies with device     0  \n",
       "3454  Varies with device  Varies with device     0  \n",
       "338   Varies with device  Varies with device     0  "
      ]
     },
     "execution_count": 531,
     "metadata": {},
     "output_type": "execute_result"
    }
   ],
   "source": [
    "ev.head()"
   ]
  },
  {
   "cell_type": "code",
   "execution_count": 532,
   "metadata": {},
   "outputs": [],
   "source": [
    "ev=ev.iloc[[0, -1]]\n",
    "teen=teen.iloc[[0, -1]]\n",
    "adult=adult.iloc[[0, -1]]"
   ]
  },
  {
   "cell_type": "markdown",
   "metadata": {},
   "source": [
    "We leave only the most popular and most unpopular application in each dataframe "
   ]
  },
  {
   "cell_type": "code",
   "execution_count": 533,
   "metadata": {},
   "outputs": [],
   "source": [
    "df = pd.DataFrame(ev).append(teen).append(adult)"
   ]
  },
  {
   "cell_type": "markdown",
   "metadata": {},
   "source": [
    "Make new dataframe"
   ]
  },
  {
   "cell_type": "code",
   "execution_count": 534,
   "metadata": {},
   "outputs": [
    {
     "data": {
      "text/html": [
       "<div>\n",
       "<style scoped>\n",
       "    .dataframe tbody tr th:only-of-type {\n",
       "        vertical-align: middle;\n",
       "    }\n",
       "\n",
       "    .dataframe tbody tr th {\n",
       "        vertical-align: top;\n",
       "    }\n",
       "\n",
       "    .dataframe thead th {\n",
       "        text-align: right;\n",
       "    }\n",
       "</style>\n",
       "<table border=\"1\" class=\"dataframe\">\n",
       "  <thead>\n",
       "    <tr style=\"text-align: right;\">\n",
       "      <th></th>\n",
       "      <th>App</th>\n",
       "      <th>Category</th>\n",
       "      <th>Rating</th>\n",
       "      <th>Reviews</th>\n",
       "      <th>Size</th>\n",
       "      <th>Installs</th>\n",
       "      <th>Type</th>\n",
       "      <th>Price</th>\n",
       "      <th>Content Rating</th>\n",
       "      <th>Genres</th>\n",
       "      <th>Last Updated</th>\n",
       "      <th>Current Ver</th>\n",
       "      <th>Android Ver</th>\n",
       "      <th>Year</th>\n",
       "    </tr>\n",
       "  </thead>\n",
       "  <tbody>\n",
       "    <tr>\n",
       "      <th>2808</th>\n",
       "      <td>Google Photos</td>\n",
       "      <td>PHOTOGRAPHY</td>\n",
       "      <td>4.5</td>\n",
       "      <td>10858556</td>\n",
       "      <td>0.0</td>\n",
       "      <td>1000000000</td>\n",
       "      <td>Free</td>\n",
       "      <td>0.00</td>\n",
       "      <td>Everyone</td>\n",
       "      <td>Photography</td>\n",
       "      <td>2018-08-06</td>\n",
       "      <td>Varies with device</td>\n",
       "      <td>Varies with device</td>\n",
       "      <td>0</td>\n",
       "    </tr>\n",
       "    <tr>\n",
       "      <th>9934</th>\n",
       "      <td>I'm Rich/Eu sou Rico/أنا غني/我很有錢</td>\n",
       "      <td>LIFESTYLE</td>\n",
       "      <td>4.3</td>\n",
       "      <td>0</td>\n",
       "      <td>40000000.0</td>\n",
       "      <td>0</td>\n",
       "      <td>Paid</td>\n",
       "      <td>399.99</td>\n",
       "      <td>Everyone</td>\n",
       "      <td>Lifestyle</td>\n",
       "      <td>2017-12-01</td>\n",
       "      <td>MONEY</td>\n",
       "      <td>4.1 and up</td>\n",
       "      <td>1</td>\n",
       "    </tr>\n",
       "  </tbody>\n",
       "</table>\n",
       "</div>"
      ],
      "text/plain": [
       "                                    App     Category  Rating   Reviews  \\\n",
       "2808                      Google Photos  PHOTOGRAPHY     4.5  10858556   \n",
       "9934  I'm Rich/Eu sou Rico/أنا غني/我很有錢    LIFESTYLE     4.3         0   \n",
       "\n",
       "            Size    Installs  Type   Price Content Rating       Genres  \\\n",
       "2808         0.0  1000000000  Free    0.00       Everyone  Photography   \n",
       "9934  40000000.0           0  Paid  399.99       Everyone    Lifestyle   \n",
       "\n",
       "     Last Updated         Current Ver         Android Ver  Year  \n",
       "2808   2018-08-06  Varies with device  Varies with device     0  \n",
       "9934   2017-12-01               MONEY          4.1 and up     1  "
      ]
     },
     "execution_count": 534,
     "metadata": {},
     "output_type": "execute_result"
    }
   ],
   "source": [
    "df.head(2)"
   ]
  },
  {
   "cell_type": "code",
   "execution_count": 535,
   "metadata": {},
   "outputs": [],
   "source": [
    "df['App']=df['App'].str.replace('/Eu sou Rico/أنا غني/我很有錢','')"
   ]
  },
  {
   "cell_type": "markdown",
   "metadata": {},
   "source": [
    "We leave only english title of app with index 9934, otherwise will occur warnings as 'Glyph missing from current font. font.set_text(s, 0, flags=flags)', cause plt cannot find the font"
   ]
  },
  {
   "cell_type": "code",
   "execution_count": 536,
   "metadata": {},
   "outputs": [
    {
     "data": {
      "image/png": "[encoded data removed]",
      "text/plain": [
       "<Figure size 1080x504 with 1 Axes>"
      ]
     },
     "metadata": {
      "needs_background": "light"
     },
     "output_type": "display_data"
    }
   ],
   "source": [
    "# visualisation code for Q3\n",
    "\n",
    "plt.figure(figsize = (15, 7))\n",
    "sns.set_style(\"whitegrid\")   \n",
    "sns.set(font_scale = 1)  #size of words\n",
    "sns.barplot(data = df, x = 'App', y = 'Rating', hue = 'Content Rating') #apply seaborn\n",
    "\n",
    "plt.show()"
   ]
  },
  {
   "cell_type": "markdown",
   "metadata": {},
   "source": [
    "By barcharts we can see that ratings of most and least popular apps in 'Everyone', 'Teen', 'Adults only 18+' content ratings are almost the same, which means that popularity can not be consider first by rating of app. The most important is number of installs.Because app that was installed by 100k users can have rating 4.2, when app with 2 installs have rating 4.4 "
   ]
  },
  {
   "cell_type": "markdown",
   "metadata": {},
   "source": [
    "# Conclusion"
   ]
  },
  {
   "cell_type": "markdown",
   "metadata": {},
   "source": [
    "Google App Store dataset can be used for many purposes. We can make a lot of different plots that is used for visualisation and better understanding. \n",
    "<br>\n",
    "People more prefer Free apps.By answering to the questions we understood that popularity of app firstly depends on number of Installs.Then by Rating, Type and number of reviews.\n",
    "<br>\n",
    "By making such kind of analysis we specify trend apps and can make predictions of relevance of application."
   ]
  },
  {
   "cell_type": "markdown",
   "metadata": {},
   "source": [
    "---\n",
    "\n",
    "## Evaluation form (Keep it!)\n",
    "\n",
    "| Project part | Mark     | Comment   \n",
    "|:-------:|:--------:|:----------------------\n",
    "| Introduction       |   5/5    |     To get full pint, you need to give brief background of your project and why it is interesting for you. \n",
    "| Data description       |   5/5    | To get full point, you provide description of your dataset, namely columns.\n",
    "| Research questions       |   5/5    | To get full point, you need to create at least 5 good, different, interseting questions. \n",
    "| Data prepartion       |   20/20    | To get full point, you need to show proficient skill in using pandas in the purpose of data preparation. \n",
    "| Data analysis and visualisation       |   30/30    | To get full point, you need to show proficient skill in using matplotlib or seaborn (or other libraries along with some pandas in the purpose of data visualisation and analysis. Also, you should commment all your graphs.\n",
    "| Conclusion       |   5/5    | To get full point, you need to write summary of your finding in general.\n",
    "| Structure and code       |   10/10    | To get full point, you need to write efficient code, and all the libraries should be properly used. Also, the whole project should be well structured. \n",
    "| Defense      |   20/20    | To get full point, students should properly present their projects during the defense and be able to answer questions from instructor.\n",
    "| Data modelling       |   5/5 (bonus)    | \n",
    "|**Total**|**100/100**  | \n"
   ]
  }
 ],
 "metadata": {
  "kernelspec": {
   "display_name": "Python 3",
   "language": "python",
   "name": "python3"
  },
  "language_info": {
   "codemirror_mode": {
    "name": "ipython",
    "version": 3
   },
   "file_extension": ".py",
   "mimetype": "text/x-python",
   "name": "python",
   "nbconvert_exporter": "python",
   "pygments_lexer": "ipython3",
   "version": "3.8.5"
  }
 },
 "nbformat": 4,
 "nbformat_minor": 5
}
